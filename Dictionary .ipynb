{
 "cells": [
  {
   "cell_type": "code",
   "execution_count": 25,
   "id": "89f81ba7",
   "metadata": {},
   "outputs": [
    {
     "data": {
      "text/plain": [
       "'value'"
      ]
     },
     "execution_count": 25,
     "metadata": {},
     "output_type": "execute_result"
    }
   ],
   "source": [
    "#it act as dictionary as if you search key it will give you value as well, key and value is stored in pair\n",
    "my_dict={'key1':'value','key2':'value'}\n",
    "my_dict['key1']"
   ]
  },
  {
   "cell_type": "code",
   "execution_count": 4,
   "id": "3921224b",
   "metadata": {},
   "outputs": [
    {
     "data": {
      "text/plain": [
       "'string'"
      ]
     },
     "execution_count": 4,
     "metadata": {},
     "output_type": "execute_result"
    }
   ],
   "source": [
    "my_dict={'k1':123,'k2':3.4,'k3':'string'}\n",
    "my_dict['k3']"
   ]
  },
  {
   "cell_type": "code",
   "execution_count": 3,
   "id": "796c61e8",
   "metadata": {},
   "outputs": [
    {
     "data": {
      "text/plain": [
       "'s'"
      ]
     },
     "execution_count": 3,
     "metadata": {},
     "output_type": "execute_result"
    }
   ],
   "source": [
    "#to print index value of the searched key\n",
    "my_dict={'k1':123,'k2':3.4,'k3':'string'}\n",
    "my_dict['k3'][0]"
   ]
  },
  {
   "cell_type": "code",
   "execution_count": 9,
   "id": "6cd0c643",
   "metadata": {},
   "outputs": [
    {
     "name": "stdout",
     "output_type": "stream",
     "text": [
      "s\n"
     ]
    }
   ],
   "source": [
    "#to print index value of the searched keymy_dict={'k1':123,'k2':3.4,'k3':'string'}\n",
    "print(my_dict['k3'][0])"
   ]
  },
  {
   "cell_type": "code",
   "execution_count": 11,
   "id": "98df7472",
   "metadata": {},
   "outputs": [
    {
     "name": "stdout",
     "output_type": "stream",
     "text": [
      "gnirts\n"
     ]
    }
   ],
   "source": [
    "#print reverse value of respective key\n",
    "d={'k1':123,'k2':3.4,'k3':'string'}\n",
    "print(d['k3'][::-1])"
   ]
  },
  {
   "cell_type": "code",
   "execution_count": 18,
   "id": "22cfdec1",
   "metadata": {},
   "outputs": [
    {
     "name": "stdout",
     "output_type": "stream",
     "text": [
      "3\n",
      "{'k1': 123, 'k2': 3.4, 'k3': 'string'}\n"
     ]
    }
   ],
   "source": [
    "#subtract from key's value without overwriting the value\n",
    "my_dict={'k1':123,'k2':3.4,'k3':'string'}\n",
    "my_dict['k1']-120\n",
    "print(my_dict['k1']-120)\n",
    "print(my_dict)"
   ]
  },
  {
   "cell_type": "code",
   "execution_count": 26,
   "id": "bc0180ac",
   "metadata": {},
   "outputs": [
    {
     "name": "stdout",
     "output_type": "stream",
     "text": [
      "3\n"
     ]
    }
   ],
   "source": [
    "#subtract from key's value and overwriting the value\n",
    "my_dict={'k1':123,'k2':3.4,'k3':'string'}\n",
    "my_dict=my_dict['k1']-120\n",
    "print(my_dict)"
   ]
  },
  {
   "cell_type": "code",
   "execution_count": 27,
   "id": "74c4b48f",
   "metadata": {},
   "outputs": [
    {
     "name": "stdout",
     "output_type": "stream",
     "text": [
      "{'k1': 243, 'k2': 3.4, 'k3': 'string'}\n"
     ]
    }
   ],
   "source": [
    "#subtract from key's value and overwriting the value\n",
    "#method 2\n",
    "my_dict={'k1':123,'k2':3.4,'k3':'string'}\n",
    "my_dict['k1']+=120\n",
    "print(my_dict)"
   ]
  },
  {
   "cell_type": "code",
   "execution_count": 27,
   "id": "b2ff6b25",
   "metadata": {},
   "outputs": [
    {
     "name": "stdout",
     "output_type": "stream",
     "text": [
      "{'k1': {'k2': {'k3': 'value'}}}\n",
      "value\n",
      "{'k3': 'value'}\n",
      "{'k2': {'k3': 'value'}}\n"
     ]
    }
   ],
   "source": [
    "#nesting of dictionary\n",
    "d={'k1':{'k2':{'k3':'value'}}}\n",
    "print(d)\n",
    "print(d['k1']['k2']['k3'])\n",
    "print(d['k1']['k2'])\n",
    "print(d['k1'])"
   ]
  },
  {
   "cell_type": "code",
   "execution_count": 28,
   "id": "32e234cb",
   "metadata": {},
   "outputs": [
    {
     "name": "stdout",
     "output_type": "stream",
     "text": [
      "{'k1': 1, 'k2': 2, 'k3': 3}\n",
      "{'k1': 1, 'k2': 2, 'k3': 4}\n"
     ]
    }
   ],
   "source": [
    "#substituing nd overwriting\n",
    "d={}\n",
    "d['k1']=1\n",
    "d['k2']=2\n",
    "d['k3']=3\n",
    "print(d)\n",
    "d['k3']=4\n",
    "print(d)"
   ]
  },
  {
   "cell_type": "code",
   "execution_count": 36,
   "id": "eb272042",
   "metadata": {},
   "outputs": [
    {
     "data": {
      "text/plain": [
       "{'k1': 123, 'k2': 3.4, 'k3': 'abc'}"
      ]
     },
     "execution_count": 36,
     "metadata": {},
     "output_type": "execute_result"
    }
   ],
   "source": [
    "#it will not make two keys with same name it will overwrite the first one\n",
    "\n",
    "d={'k1':123,'k2':3.4,'k3':'string','k3':'abc'}\n",
    "d"
   ]
  },
  {
   "cell_type": "code",
   "execution_count": 37,
   "id": "9d799e52",
   "metadata": {},
   "outputs": [
    {
     "data": {
      "text/plain": [
       "dict_keys(['k1', 'k2', 'k3'])"
      ]
     },
     "execution_count": 37,
     "metadata": {},
     "output_type": "execute_result"
    }
   ],
   "source": [
    "#show all keys\n",
    "d.keys()"
   ]
  },
  {
   "cell_type": "code",
   "execution_count": 39,
   "id": "a6a5711b",
   "metadata": {},
   "outputs": [
    {
     "data": {
      "text/plain": [
       "dict_values([123, 3.4, 'abc'])"
      ]
     },
     "execution_count": 39,
     "metadata": {},
     "output_type": "execute_result"
    }
   ],
   "source": [
    "#show values\n",
    "d.values()"
   ]
  },
  {
   "cell_type": "code",
   "execution_count": 38,
   "id": "c0985779",
   "metadata": {},
   "outputs": [
    {
     "data": {
      "text/plain": [
       "dict_items([('k1', 123), ('k2', 3.4), ('k3', 'abc')])"
      ]
     },
     "execution_count": 38,
     "metadata": {},
     "output_type": "execute_result"
    }
   ],
   "source": [
    "#convert dictinory to item\n",
    "d.items()"
   ]
  },
  {
   "cell_type": "code",
   "execution_count": 41,
   "id": "64edeff9",
   "metadata": {},
   "outputs": [
    {
     "data": {
      "text/plain": [
       "dict_items([('k1', 123), ('k2', 3.4), ('k3', 'abc')])"
      ]
     },
     "execution_count": 41,
     "metadata": {},
     "output_type": "execute_result"
    }
   ],
   "source": [
    "#to print the dictionary\n",
    "z=d.items()\n",
    "z"
   ]
  },
  {
   "cell_type": "code",
   "execution_count": 42,
   "id": "5e9b16a1",
   "metadata": {},
   "outputs": [
    {
     "ename": "TypeError",
     "evalue": "'dict_items' object is not subscriptable",
     "output_type": "error",
     "traceback": [
      "\u001b[1;31m---------------------------------------------------------------------------\u001b[0m",
      "\u001b[1;31mTypeError\u001b[0m                                 Traceback (most recent call last)",
      "Input \u001b[1;32mIn [42]\u001b[0m, in \u001b[0;36m<cell line: 1>\u001b[1;34m()\u001b[0m\n\u001b[1;32m----> 1\u001b[0m \u001b[43mz\u001b[49m\u001b[43m[\u001b[49m\u001b[38;5;241;43m0\u001b[39;49m\u001b[43m]\u001b[49m\n",
      "\u001b[1;31mTypeError\u001b[0m: 'dict_items' object is not subscriptable"
     ]
    }
   ],
   "source": [
    "#we can't print any index value\n",
    "z[0]"
   ]
  },
  {
   "cell_type": "code",
   "execution_count": 3,
   "id": "6477cb8f",
   "metadata": {},
   "outputs": [
    {
     "name": "stdout",
     "output_type": "stream",
     "text": [
      "{1: 10, 2: 20, 3: 30, 4: 40, 5: 50, 6: 60}\n"
     ]
    }
   ],
   "source": [
    "#update is to add differnt dictionaries in one\n",
    "\n",
    "dic1={1:10,2:20}\n",
    "dic2={3:30,4:40}\n",
    "dic3={5:50,6:60}\n",
    "dic4={}\n",
    "for d in (dic1,dic2,dic3):dic4.update(d)\n",
    "print(dic4)"
   ]
  },
  {
   "cell_type": "code",
   "execution_count": 5,
   "id": "025f3097",
   "metadata": {},
   "outputs": [
    {
     "name": "stdout",
     "output_type": "stream",
     "text": [
      "{0: 10, 1: 20}\n",
      "{0: 10, 1: 20, 2: 30}\n"
     ]
    }
   ],
   "source": [
    "#to add a key to a dictionary (update function is used)\n",
    "d={0:10,1:20}\n",
    "print(d)\n",
    "d.update({2:30})\n",
    "print(d)"
   ]
  },
  {
   "cell_type": "code",
   "execution_count": 29,
   "id": "7f11529c",
   "metadata": {},
   "outputs": [
    {
     "name": "stdout",
     "output_type": "stream",
     "text": [
      "Enter the key you want to search:5\n",
      "Key is present\n"
     ]
    }
   ],
   "source": [
    "#to check whether key already exists in a dictionary\n",
    "d={1:10,2:20,3:30,4:40,5:50,6:60}\n",
    "x=int(input(\"Enter the key you want to search:\"))\n",
    "if x in d:\n",
    "    print(\"Key is present\")\n",
    "else:\n",
    "    print(\"Key doen't exist\")"
   ]
  },
  {
   "cell_type": "code",
   "execution_count": 8,
   "id": "9a24c43e",
   "metadata": {},
   "outputs": [
    {
     "name": "stdout",
     "output_type": "stream",
     "text": [
      "x -> 10\n",
      "y -> 20\n",
      "z -> 30\n"
     ]
    }
   ],
   "source": [
    "#iterate over dictionaries using for loop\n",
    "#dict_key,dict_value these are variables we can replace them with any letter like x and y as well\n",
    "d={'x':10,'y':20,'z':30}\n",
    "for dict_key,dict_value in d.items():\n",
    "    print(dict_key,'->',dict_value)"
   ]
  },
  {
   "cell_type": "code",
   "execution_count": 10,
   "id": "536922a7",
   "metadata": {},
   "outputs": [
    {
     "name": "stdout",
     "output_type": "stream",
     "text": [
      "Range:20\n",
      "{1: 1, 2: 4, 3: 9, 4: 16, 5: 25, 6: 36, 7: 49, 8: 64, 9: 81, 10: 100, 11: 121, 12: 144, 13: 169, 14: 196, 15: 225, 16: 256, 17: 289, 18: 324, 19: 361, 20: 400}\n"
     ]
    }
   ],
   "source": [
    "#to print a dictionary where the keys are numbers between 1 and n(both included) and the values are square of keys\n",
    "d=dict()\n",
    "n=int(input(\"Range:\"))\n",
    "for x in range(1,n+1):\n",
    "    d[x]=x**2\n",
    "print(d)"
   ]
  },
  {
   "cell_type": "code",
   "execution_count": 11,
   "id": "2827e306",
   "metadata": {},
   "outputs": [
    {
     "name": "stdout",
     "output_type": "stream",
     "text": [
      "{1: 10, 2: 20, 3: 30, 4: 40, 5: 50}\n"
     ]
    }
   ],
   "source": [
    "#to merge two dictinories \n",
    "#second method\n",
    "d1={1:10,2:20,3:30}\n",
    "d2={4:40,5:50}\n",
    "d=d1.copy()\n",
    "d.update(d2)\n",
    "print(d)"
   ]
  },
  {
   "cell_type": "code",
   "execution_count": 13,
   "id": "a0cdabe4",
   "metadata": {},
   "outputs": [
    {
     "name": "stdout",
     "output_type": "stream",
     "text": [
      "70\n"
     ]
    }
   ],
   "source": [
    "#to sum all the items in dictionary\n",
    "#string values can't be added\n",
    "d={'d1':10,'d2':20,'d3':40}\n",
    "print(sum(d.values()))"
   ]
  },
  {
   "cell_type": "code",
   "execution_count": 15,
   "id": "ccfb0ec8",
   "metadata": {},
   "outputs": [
    {
     "name": "stdout",
     "output_type": "stream",
     "text": [
      "70\n",
      "6\n"
     ]
    }
   ],
   "source": [
    "#to sum all the items in dictionary\n",
    "d={1:10,2:20,3:40}\n",
    "print(sum(d.values()))\n",
    "print(sum(d.keys()))\n"
   ]
  },
  {
   "cell_type": "code",
   "execution_count": 16,
   "id": "5906c9b1",
   "metadata": {},
   "outputs": [
    {
     "name": "stdout",
     "output_type": "stream",
     "text": [
      "6000000\n"
     ]
    }
   ],
   "source": [
    "#multiply all items in dictionary\n",
    "#keys\n",
    "d={'d1':100,'d2':200,'d3':300}\n",
    "r=1\n",
    "for key in d:\n",
    "    r=r*d[key]\n",
    "print(r)"
   ]
  },
  {
   "cell_type": "code",
   "execution_count": 24,
   "id": "35bfff85",
   "metadata": {},
   "outputs": [
    {
     "name": "stdout",
     "output_type": "stream",
     "text": [
      "dict_values([100, 200, 300])\n",
      "6000000\n"
     ]
    }
   ],
   "source": [
    "#multiply all items in dictionary\n",
    "#values\n",
    "d={'d1':100,'d2':200,'d3':300}\n",
    "r=1\n",
    "print(d.values())\n",
    "for value in d.values():\n",
    "    r=r*value\n",
    "print(r)"
   ]
  },
  {
   "cell_type": "code",
   "execution_count": null,
   "id": "abf350dc",
   "metadata": {},
   "outputs": [],
   "source": []
  }
 ],
 "metadata": {
  "kernelspec": {
   "display_name": "Python 3 (ipykernel)",
   "language": "python",
   "name": "python3"
  },
  "language_info": {
   "codemirror_mode": {
    "name": "ipython",
    "version": 3
   },
   "file_extension": ".py",
   "mimetype": "text/x-python",
   "name": "python",
   "nbconvert_exporter": "python",
   "pygments_lexer": "ipython3",
   "version": "3.9.12"
  }
 },
 "nbformat": 4,
 "nbformat_minor": 5
}
