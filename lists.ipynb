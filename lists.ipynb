{
 "cells": [
  {
   "cell_type": "code",
   "execution_count": null,
   "id": "92b96036",
   "metadata": {},
   "outputs": [],
   "source": [
    "'''LISTS'''"
   ]
  },
  {
   "cell_type": "code",
   "execution_count": 3,
   "id": "26788b74",
   "metadata": {},
   "outputs": [
    {
     "name": "stdout",
     "output_type": "stream",
     "text": [
      "10\n"
     ]
    }
   ],
   "source": [
    "#pop\n",
    "#here x is popped out of list\n",
    "l=[5,10,15,20,25]\n",
    "x=l.pop(1)\n",
    "print(x)"
   ]
  },
  {
   "cell_type": "code",
   "execution_count": 10,
   "id": "719d418f",
   "metadata": {},
   "outputs": [
    {
     "name": "stdout",
     "output_type": "stream",
     "text": [
      "[5, 20]\n",
      "[5, 20, 100]\n"
     ]
    }
   ],
   "source": [
    "#remove,delete,pop,append\n",
    "l=[5,10,15,20,25]\n",
    "l.pop(1)\n",
    "\n",
    "del l[1]\n",
    "\n",
    "l.remove(25)\n",
    "print(l)\n",
    "\n",
    "#adds number\n",
    "l.append(100)\n",
    "print(l)"
   ]
  },
  {
   "cell_type": "code",
   "execution_count": 12,
   "id": "1b5981e5",
   "metadata": {},
   "outputs": [
    {
     "name": "stdout",
     "output_type": "stream",
     "text": [
      "3\n",
      "123\n",
      "[123, 'spam']\n",
      "[123, 'spam', 1.23, 4, 5, 6]\n",
      "[123, 'spam', 1.23, 123, 'spam', 1.23]\n"
     ]
    }
   ],
   "source": [
    "l=[123,'spam',1.23]\n",
    "#print length of the list\n",
    "print(len(l))\n",
    "\n",
    "#print the element of the particular index\n",
    "print(l[0])\n",
    "\n",
    "#slicing\n",
    "print(l[:-1])\n",
    "\n",
    "#adding elements to the list\n",
    "print(l+[4,5,6])\n",
    "\n",
    "#print the list eleements twixe in the same list\n",
    "print(l*2)"
   ]
  },
  {
   "cell_type": "code",
   "execution_count": 21,
   "id": "cefc066e",
   "metadata": {},
   "outputs": [
    {
     "name": "stdout",
     "output_type": "stream",
     "text": [
      "[2.5, 10, 82.22, 5104, 18885]\n"
     ]
    }
   ],
   "source": [
    "#sort\n",
    "l=[5104,10,18885,82.220,2.5]\n",
    "l.sort()\n",
    "#sort arranges the elements in ascending order\n",
    "print(l)"
   ]
  },
  {
   "cell_type": "code",
   "execution_count": 20,
   "id": "3f15977c",
   "metadata": {},
   "outputs": [
    {
     "name": "stdout",
     "output_type": "stream",
     "text": [
      "[2.5, 820, 18885, 10, 5104]\n"
     ]
    }
   ],
   "source": [
    "#reverse the list\n",
    "l=[5104,10,18885,820,2.51,]\n",
    "l.reverse()\n",
    "print(l)"
   ]
  },
  {
   "cell_type": "code",
   "execution_count": 23,
   "id": "02bda0e9",
   "metadata": {},
   "outputs": [
    {
     "name": "stdout",
     "output_type": "stream",
     "text": [
      "[2.5, 10, 82.22, 5104, 18885]\n"
     ]
    }
   ],
   "source": [
    "l=[5104,10,18885,82.220,2.5]\n",
    "l.sort()\n",
    "\n",
    "#sort arranges the elements in ascending order\n",
    "print(l)"
   ]
  },
  {
   "cell_type": "code",
   "execution_count": 13,
   "id": "1db7d066",
   "metadata": {},
   "outputs": [
    {
     "name": "stdout",
     "output_type": "stream",
     "text": [
      "[[1, 2, 3], [3, 4, 5], [7, 8, 9]]\n",
      "[3, 4, 5]\n",
      "5\n"
     ]
    }
   ],
   "source": [
    "#list as matrix\n",
    "l=[[1,2,3],\n",
    "  [3,4,5],\n",
    "  [7,8,9]]\n",
    "print(l)\n",
    "print(l[1])  \n",
    "#get row2\n",
    "print(l[1][2])\n",
    "#get row 2 the get item 3 within the row\n"
   ]
  },
  {
   "cell_type": "code",
   "execution_count": 36,
   "id": "e3ab5f89",
   "metadata": {},
   "outputs": [
    {
     "name": "stdout",
     "output_type": "stream",
     "text": [
      "[2, 4, 8]\n",
      "[[1, 2, 3], [3, 4, 5], [7, 8, 9]]\n"
     ]
    }
   ],
   "source": [
    "#using for loop\n",
    "col2=[]\n",
    "for row in l:\n",
    "    col2.append(row[1])\n",
    "print(col2)\n",
    "print(l)\n"
   ]
  },
  {
   "cell_type": "code",
   "execution_count": null,
   "id": "36629f1f",
   "metadata": {},
   "outputs": [],
   "source": [
    "'''LIST COMPREHENSION'''"
   ]
  },
  {
   "cell_type": "code",
   "execution_count": 37,
   "id": "6346e550",
   "metadata": {},
   "outputs": [
    {
     "data": {
      "text/plain": [
       "[2, 4, 8]"
      ]
     },
     "execution_count": 37,
     "metadata": {},
     "output_type": "execute_result"
    }
   ],
   "source": [
    "#list comprehension\n",
    "col2=[row[1] for row in l]\n",
    "col2"
   ]
  },
  {
   "cell_type": "code",
   "execution_count": 38,
   "id": "5bda2f23",
   "metadata": {},
   "outputs": [
    {
     "name": "stdout",
     "output_type": "stream",
     "text": [
      "[3, 5, 9]\n"
     ]
    }
   ],
   "source": [
    "#printing last elements of the each row in one list using for loop  \n",
    "col2=[]\n",
    "for row in l:\n",
    "    col2.append(row[1]+1)\n",
    "print(col2)"
   ]
  },
  {
   "cell_type": "code",
   "execution_count": 40,
   "id": "64efec69",
   "metadata": {},
   "outputs": [
    {
     "data": {
      "text/plain": [
       "[3, 5, 9]"
      ]
     },
     "execution_count": 40,
     "metadata": {},
     "output_type": "execute_result"
    }
   ],
   "source": [
    "#printing last elements of the each row in one list\n",
    "col2=[row[1]+1 for row in l]\n",
    "col2"
   ]
  },
  {
   "cell_type": "code",
   "execution_count": 41,
   "id": "22303253",
   "metadata": {},
   "outputs": [
    {
     "data": {
      "text/plain": [
       "[1, 4, 9]"
      ]
     },
     "execution_count": 41,
     "metadata": {},
     "output_type": "execute_result"
    }
   ],
   "source": [
    "#collect digonal \n",
    "diag=[l[i][i] for i in [0,1,2]]\n",
    "diag"
   ]
  },
  {
   "cell_type": "code",
   "execution_count": 42,
   "id": "5503960c",
   "metadata": {},
   "outputs": [
    {
     "data": {
      "text/plain": [
       "['ss', 'hh', 'uu', 'bb', 'hh', 'aa', 'mm']"
      ]
     },
     "execution_count": 42,
     "metadata": {},
     "output_type": "execute_result"
    }
   ],
   "source": [
    "#repeat characters in a string\n",
    "doubles=[a*2 for a in 'shubham']\n",
    "doubles"
   ]
  },
  {
   "cell_type": "code",
   "execution_count": 44,
   "id": "ea326d70",
   "metadata": {},
   "outputs": [
    {
     "data": {
      "text/plain": [
       "[4, 9, 16]"
      ]
     },
     "execution_count": 44,
     "metadata": {},
     "output_type": "execute_result"
    }
   ],
   "source": [
    "#square of list components\n",
    "a=[x**2 for x in [2,3,4]]\n",
    "a"
   ]
  },
  {
   "cell_type": "code",
   "execution_count": 56,
   "id": "ef5b1547",
   "metadata": {},
   "outputs": [
    {
     "name": "stdout",
     "output_type": "stream",
     "text": [
      "Enter number : 1\n",
      "Enter number : 4\n",
      "Enter number : 5\n",
      "Enter number : 7\n",
      "Enter number : 9\n",
      "[1, 16, 25, 49, 81]\n",
      "[1, 64, 125, 343, 729]\n"
     ]
    }
   ],
   "source": [
    "#take list from user and print and store square and cube of the elements\n",
    "l=[]\n",
    "for i in range (5):\n",
    "    a=int(input(\"Enter number : \"))\n",
    "    l.append(a)\n",
    "\n",
    "b=[s**2 for s in l]\n",
    "print(b)\n",
    "c=[t**3 for t in l]\n",
    "print(c)"
   ]
  },
  {
   "cell_type": "code",
   "execution_count": 58,
   "id": "1b1207f8",
   "metadata": {},
   "outputs": [
    {
     "data": {
      "text/plain": [
       "[0, 1, 2, 3]"
      ]
     },
     "execution_count": 58,
     "metadata": {},
     "output_type": "execute_result"
    }
   ],
   "source": [
    "list(range(4))"
   ]
  },
  {
   "cell_type": "code",
   "execution_count": 59,
   "id": "1fc7288b",
   "metadata": {},
   "outputs": [
    {
     "data": {
      "text/plain": [
       "[-6, -4, -2, 0, 2, 4, 6]"
      ]
     },
     "execution_count": 59,
     "metadata": {},
     "output_type": "execute_result"
    }
   ],
   "source": [
    "#print elements from -6 ,interval of 2 and total number =7\n",
    "list (range(-6,7,2))"
   ]
  },
  {
   "cell_type": "code",
   "execution_count": 60,
   "id": "f49699c7",
   "metadata": {},
   "outputs": [
    {
     "data": {
      "text/plain": [
       "[2, 4, 6, 8, 10, 12, 14, 16, 18, 20, 22, 24, 26, 28, 30]"
      ]
     },
     "execution_count": 60,
     "metadata": {},
     "output_type": "execute_result"
    }
   ],
   "source": [
    "#print even numbers\n",
    "list(range(2,31,2))"
   ]
  },
  {
   "cell_type": "code",
   "execution_count": 61,
   "id": "c63c8e2e",
   "metadata": {},
   "outputs": [
    {
     "data": {
      "text/plain": [
       "[1, 3, 5, 7, 9, 11, 13, 15, 17, 19, 21, 23, 25, 27, 29]"
      ]
     },
     "execution_count": 61,
     "metadata": {},
     "output_type": "execute_result"
    }
   ],
   "source": [
    "#print odd number\n",
    "list(range(1,31,2))"
   ]
  },
  {
   "cell_type": "code",
   "execution_count": 62,
   "id": "415b413c",
   "metadata": {},
   "outputs": [
    {
     "data": {
      "text/plain": [
       "[[0, 0], [1, 1], [4, 8], [9, 27]]"
      ]
     },
     "execution_count": 62,
     "metadata": {},
     "output_type": "execute_result"
    }
   ],
   "source": [
    "#multiple values\n",
    "#square and cube of elements 0,1,2,3\n",
    "[[x**2,x**3] for x in range (4)]"
   ]
  },
  {
   "cell_type": "code",
   "execution_count": 63,
   "id": "a0e76afa",
   "metadata": {},
   "outputs": [
    {
     "data": {
      "text/plain": [
       "[[2, 1.0, 4], [4, 2.0, 8], [6, 3.0, 12]]"
      ]
     },
     "execution_count": 63,
     "metadata": {},
     "output_type": "execute_result"
    }
   ],
   "source": [
    "#operations\n",
    "[[x,x/2,x*2] for x in range (-6,7,2) if x>0]"
   ]
  },
  {
   "cell_type": "code",
   "execution_count": 14,
   "id": "727f251f",
   "metadata": {},
   "outputs": [
    {
     "name": "stdout",
     "output_type": "stream",
     "text": [
      "enter temp : 0\n",
      "enter temp : 100\n",
      "enter temp : 325\n",
      "enter temp : -735.15\n",
      "[32.0, 212.0, 617.0, -1291.27]\n"
     ]
    }
   ],
   "source": [
    "#celsius to fahrenhit(imp)\n",
    "k=[]\n",
    "for i in range (4):\n",
    "    temp=float(input(\"enter temp : \"))\n",
    "    k.append(temp)\n",
    "f=[(j*9/5.0)+32 for j in k]\n",
    "print(f)"
   ]
  },
  {
   "cell_type": "code",
   "execution_count": 81,
   "id": "03666038",
   "metadata": {},
   "outputs": [
    {
     "name": "stdout",
     "output_type": "stream",
     "text": [
      "Frequency of elements: 2\n",
      "Frequency of elements: 2\n",
      "Frequency of elements: 2\n",
      "Frequency of elements: 2\n",
      "Frequency of elements: 2\n",
      "Frequency of elements: 2\n",
      "Frequency of elements: 1\n"
     ]
    }
   ],
   "source": [
    "#frequency of there occurance\n",
    "n=[1,1,2,2,8,8,9]\n",
    "for i in n:\n",
    "    p=n.count(i)\n",
    "    print (\"Frequency of elements:\",p)\n"
   ]
  },
  {
   "cell_type": "code",
   "execution_count": 91,
   "id": "d6722154",
   "metadata": {},
   "outputs": [
    {
     "data": {
      "text/plain": [
       "[2, 9, 11, 30, 32]"
      ]
     },
     "execution_count": 91,
     "metadata": {},
     "output_type": "execute_result"
    }
   ],
   "source": [
    "#sort\n",
    "#sort is used to sort the data permanently where as sorted is used just to print it\n",
    "l=[2,30,32,11,9]\n",
    "l.sort()\n",
    "l"
   ]
  },
  {
   "cell_type": "code",
   "execution_count": 94,
   "id": "e5eaeb72",
   "metadata": {},
   "outputs": [
    {
     "name": "stdout",
     "output_type": "stream",
     "text": [
      "[2, 30, 77, 79]\n",
      "[77, 2, 30, 79]\n"
     ]
    }
   ],
   "source": [
    "#sorted\n",
    "m=[77,2,30,79]\n",
    "print(sorted(m))\n",
    "print(m)"
   ]
  },
  {
   "cell_type": "code",
   "execution_count": 95,
   "id": "7b7f7748",
   "metadata": {},
   "outputs": [
    {
     "data": {
      "text/plain": [
       "['1', '10', '2', '200', '22', '3', '4']"
      ]
     },
     "execution_count": 95,
     "metadata": {},
     "output_type": "execute_result"
    }
   ],
   "source": [
    "#sorting the list data without conversion\n",
    "l=[\"1\",\"200\",\"10\",\"22\",\"2\",\"4\",\"3\"]\n",
    "l.sort()\n",
    "l\n",
    "\n",
    "#here sorting is done on the basis of characters not numbers"
   ]
  },
  {
   "cell_type": "code",
   "execution_count": 96,
   "id": "355c3273",
   "metadata": {},
   "outputs": [
    {
     "data": {
      "text/plain": [
       "[1, 2, 3, 4, 10, 22, 200]"
      ]
     },
     "execution_count": 96,
     "metadata": {},
     "output_type": "execute_result"
    }
   ],
   "source": [
    "#sorting the list data after converting it into interger\n",
    "l=[\"1\",\"200\",\"10\",\"22\",\"2\",\"4\",\"3\"]\n",
    "l=[int(x) for x in l]\n",
    "l.sort()\n",
    "l\n",
    "\n",
    "#so here the result will be shown in integer form"
   ]
  },
  {
   "cell_type": "code",
   "execution_count": 97,
   "id": "490af6c0",
   "metadata": {},
   "outputs": [
    {
     "data": {
      "text/plain": [
       "['1', '2', '3', '4', '10', '22', '200']"
      ]
     },
     "execution_count": 97,
     "metadata": {},
     "output_type": "execute_result"
    }
   ],
   "source": [
    "#sorting list using key\n",
    "#here data is temporily converted into int for comparison\n",
    "\n",
    "l=[\"1\",\"200\",\"10\",\"22\",\"2\",\"4\",\"3\"]\n",
    "l.sort(key=int)\n",
    "l\n",
    "\n",
    "#here the result will come in list format only"
   ]
  },
  {
   "cell_type": "code",
   "execution_count": 99,
   "id": "c08f9fd6",
   "metadata": {},
   "outputs": [
    {
     "data": {
      "text/plain": [
       "['200', '22', '10', '4', '3', '2', '1']"
      ]
     },
     "execution_count": 99,
     "metadata": {},
     "output_type": "execute_result"
    }
   ],
   "source": [
    "#descending order of string by converting the string to integer\n",
    "l=[\"1\",\"200\",\"10\",\"22\",\"2\",\"4\",\"3\"]\n",
    "l.sort(key=int,reverse=True)\n",
    "l"
   ]
  },
  {
   "cell_type": "code",
   "execution_count": 101,
   "id": "9cd594ca",
   "metadata": {},
   "outputs": [
    {
     "data": {
      "text/plain": [
       "['200', '22', '10', '4', '3', '2', '1']"
      ]
     },
     "execution_count": 101,
     "metadata": {},
     "output_type": "execute_result"
    }
   ],
   "source": [
    "data_list=[-5,-23,5,0,23,-6,23,67]\n",
    "data_list.sort(key=int)\n",
    "l"
   ]
  },
  {
   "cell_type": "code",
   "execution_count": 106,
   "id": "8769343d",
   "metadata": {},
   "outputs": [
    {
     "name": "stdout",
     "output_type": "stream",
     "text": [
      "['1', '10', '2', '200', '22', '3', '4']\n"
     ]
    }
   ],
   "source": [
    "#sorting without sort function\n",
    "m=[\"1\",\"200\",\"10\",\"22\",\"2\",\"4\",\"3\"]\n",
    "new_list=[]\n",
    "while m:\n",
    "    minimum=m[0]  #arbitrary number is list\n",
    "    for x in m:\n",
    "        if x<minimum:\n",
    "            minimum=x\n",
    "    new_list.append(minimum)\n",
    "    m.remove(minimum)\n",
    "print(new_list)\n",
    "  "
   ]
  },
  {
   "cell_type": "code",
   "execution_count": 107,
   "id": "a000ac5a",
   "metadata": {},
   "outputs": [
    {
     "name": "stdout",
     "output_type": "stream",
     "text": [
      "[1, 2, 3, 4, 1, 2, 3, 5, 7, 8]\n",
      "[1, 2, 3, 4, 5, 7, 8]\n"
     ]
    }
   ],
   "source": [
    "#print only unique values or elemenate the duplicate values\n",
    "#set(t) is used to print elemenate the duplicate values and sort the elements as well\n",
    "t=[1,2,3,4,1,2,3,5,7,8]\n",
    "print(t)\n",
    "z=list(set(t))\n",
    "print(z)"
   ]
  },
  {
   "cell_type": "code",
   "execution_count": 108,
   "id": "2805d95b",
   "metadata": {},
   "outputs": [
    {
     "name": "stdout",
     "output_type": "stream",
     "text": [
      "[1, 2, 3, 4, 5, 6, 8, 9]\n"
     ]
    }
   ],
   "source": [
    "#removind duplicate values without using sort\n",
    "\n",
    "t=[1,2,3,1,2,4,5,6,5,8,9]\n",
    "s=[]\n",
    "for i in t:\n",
    "    if i not in s:\n",
    "        s.append(i)\n",
    "print(s)"
   ]
  },
  {
   "cell_type": "code",
   "execution_count": 110,
   "id": "e7c1ea84",
   "metadata": {},
   "outputs": [
    {
     "name": "stdout",
     "output_type": "stream",
     "text": [
      "[1, 2, 3, 4, 5, 6, 8, 9]\n",
      "Number of non- repeated values are: 8\n"
     ]
    }
   ],
   "source": [
    "#deducing the number of non repeated values\n",
    "\n",
    "t=[1,2,3,1,2,4,5,6,5,8,9]\n",
    "s=[]\n",
    "for i in t:\n",
    "    if i not in s:\n",
    "        s.append(i)\n",
    "print(s)\n",
    "print(\"Number of non- repeated values are:\",len(s))"
   ]
  },
  {
   "cell_type": "code",
   "execution_count": 116,
   "id": "87ac12ce",
   "metadata": {},
   "outputs": [
    {
     "name": "stdout",
     "output_type": "stream",
     "text": [
      "Even numbers: [2, 4, 6]\n",
      "Odd numbers: [1, 3, 5, 7]\n"
     ]
    }
   ],
   "source": [
    "#seprate the number of even and odd elements in two seprate lists\n",
    "t=[1,2,3,4,5,6,7]\n",
    "e=[]\n",
    "o=[]\n",
    "for i in t:\n",
    "    if (i%2==0):\n",
    "        e.append(i)\n",
    "    else:\n",
    "        o.append(i)\n",
    "print(\"Even numbers:\",e)\n",
    "print(\"Odd numbers:\",o)"
   ]
  },
  {
   "cell_type": "code",
   "execution_count": 118,
   "id": "9a9f5d12",
   "metadata": {},
   "outputs": [
    {
     "name": "stdout",
     "output_type": "stream",
     "text": [
      "Even numbers: [2, 4, 6, 8]\n",
      "Odd numbers: [1, 3, 5, 9]\n"
     ]
    }
   ],
   "source": [
    "#seprate the number of even and odd elements in two seprate lists when the elements are repeated\n",
    "t=[1,2,3,1,2,4,5,6,5,8,9]\n",
    "z=set(t)\n",
    "e=[]\n",
    "o=[]\n",
    "\n",
    "for i in z:\n",
    "    if (i%2==0):\n",
    "        e.append(i)\n",
    "    else:\n",
    "        o.append(i)\n",
    "print(\"Even numbers:\",e)\n",
    "print(\"Odd numbers:\",o)"
   ]
  },
  {
   "cell_type": "code",
   "execution_count": 123,
   "id": "1efeebd9",
   "metadata": {},
   "outputs": [
    {
     "name": "stdout",
     "output_type": "stream",
     "text": [
      "[2, 4, 6, 8, 10]\n"
     ]
    }
   ],
   "source": [
    "#compute the sum of two lists and store it in third list\n",
    "c=[0,0,0,0,0]\n",
    "a=[1,2,3,4,5]\n",
    "b=[1,2,3,4,5]\n",
    "\n",
    "for i in range (0,len(a)) :\n",
    "    c[i]=a[i]+b[i]\n",
    "print(c)"
   ]
  },
  {
   "cell_type": "code",
   "execution_count": 127,
   "id": "29773b03",
   "metadata": {},
   "outputs": [
    {
     "name": "stdout",
     "output_type": "stream",
     "text": [
      "[[1, 2, 3, 1, 2, 3], [1, 2, 3, 1, 2, 3], [1, 2, 3, 1, 2, 3], [1, 2, 3, 1, 2, 3], [1, 2, 3, 1, 2, 3], [1, 2, 3, 1, 2, 3], [1, 2, 3, 1, 2, 3], [1, 2, 3, 1, 2, 3], [1, 2, 3, 1, 2, 3]]\n"
     ]
    }
   ],
   "source": [
    "#home work\n",
    "\n",
    "c=[]\n",
    "a=[1,2,3]\n",
    "b=[1,2,3]\n",
    "\n",
    "for i in a:\n",
    "    c.append(i)\n",
    "    for j in b:\n",
    "        \n",
    "print(c)"
   ]
  },
  {
   "cell_type": "code",
   "execution_count": 129,
   "id": "d6645429",
   "metadata": {},
   "outputs": [
    {
     "name": "stdout",
     "output_type": "stream",
     "text": [
      "MAX= 90  and MIN= 2\n"
     ]
    }
   ],
   "source": [
    "#find max and min number without using min max function\n",
    "l1=[12,44,53,5,2,7,90]\n",
    "mx=l1[0]\n",
    "mn=l1[0]\n",
    "for i in range (0,len(l1)):\n",
    "    if(l1[i]>mx):\n",
    "        mx=l1[i]\n",
    "    elif(l1[i]<mn):\n",
    "        mn=l1[i]\n",
    "    \n",
    "print(\"MAX=\",mx,\" and MIN=\",mn)"
   ]
  },
  {
   "cell_type": "code",
   "execution_count": 139,
   "id": "b4c65f13",
   "metadata": {},
   "outputs": [
    {
     "name": "stdout",
     "output_type": "stream",
     "text": [
      "Enter the number of elements:3\n",
      "Enter the elements:7\n",
      "Enter the elements:8\n",
      "Enter the elements:55\n",
      "Maximum number: 55\n",
      "Minimum number: 7\n"
     ]
    }
   ],
   "source": [
    "#find minimum and maximum values\n",
    "l1=[]\n",
    "n=int(input(\"Enter the number of elements:\"))\n",
    "for i in range (0,n):\n",
    "    x=int(input(\"Enter the elements:\"))\n",
    "    l1.append(x)\n",
    "\n",
    "print(\"Maximum number:\",max(l1))\n",
    "print(\"Minimum number:\",min(l1))"
   ]
  },
  {
   "cell_type": "code",
   "execution_count": 137,
   "id": "9aa2dcb9",
   "metadata": {},
   "outputs": [
    {
     "data": {
      "text/plain": [
       "2"
      ]
     },
     "execution_count": 137,
     "metadata": {},
     "output_type": "execute_result"
    }
   ],
   "source": [
    "#check length of element\n",
    "len('14')"
   ]
  },
  {
   "cell_type": "code",
   "execution_count": 9,
   "id": "d23eb8e9",
   "metadata": {},
   "outputs": [
    {
     "name": "stdout",
     "output_type": "stream",
     "text": [
      "['2', '5', '7', '30', '99']\n",
      "Largest number: 99\n",
      "Second largest number: 30\n"
     ]
    }
   ],
   "source": [
    "#find largest and second largest number\n",
    "l1=['7','99','5','2','30']\n",
    "l1.sort(key=int)\n",
    "print(l1)\n",
    "b=max(l1)\n",
    "print(\"Largest number:\",max(l1))\n",
    "print(\"Second largest number:\",l1[3])\n"
   ]
  },
  {
   "cell_type": "code",
   "execution_count": 140,
   "id": "0d486e39",
   "metadata": {},
   "outputs": [
    {
     "name": "stdout",
     "output_type": "stream",
     "text": [
      "Enter the number of elements in list:3\n",
      "Enter elements:8\n",
      "Enter elements:7\n",
      "Enter elements:1\n",
      "New list : [1, 7, 8]\n"
     ]
    }
   ],
   "source": [
    "#swap the first and last value of a list\n",
    "a=[]\n",
    "n=int(input(\"Enter the number of elements in list:\"))\n",
    "for x in range (0,n):\n",
    "    element=int(input(\"Enter elements:\"))\n",
    "    a.append(element)\n",
    "temp=a[0]\n",
    "a[0]=a[n-1]\n",
    "a[n-1]=temp\n",
    "\n",
    "print(\"New list :\",a)"
   ]
  },
  {
   "cell_type": "code",
   "execution_count": null,
   "id": "e59f6b55",
   "metadata": {},
   "outputs": [],
   "source": []
  }
 ],
 "metadata": {
  "kernelspec": {
   "display_name": "Python 3 (ipykernel)",
   "language": "python",
   "name": "python3"
  },
  "language_info": {
   "codemirror_mode": {
    "name": "ipython",
    "version": 3
   },
   "file_extension": ".py",
   "mimetype": "text/x-python",
   "name": "python",
   "nbconvert_exporter": "python",
   "pygments_lexer": "ipython3",
   "version": "3.9.12"
  }
 },
 "nbformat": 4,
 "nbformat_minor": 5
}
