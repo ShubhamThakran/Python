{
 "cells": [
  {
   "cell_type": "code",
   "execution_count": 1,
   "id": "060fe4fd",
   "metadata": {},
   "outputs": [
    {
     "name": "stdout",
     "output_type": "stream",
     "text": [
      "Enter a number(q to quit):5\n",
      "Enter a number(q to quit):4\n",
      "Enter a number(q to quit):q\n",
      "[5, 4]\n",
      "Enter the element you want to insert:7\n",
      "Enter the position at which you want to insert the element:2\n",
      "element is 1 : 5\n",
      "element is 2 : 7\n",
      "element is 3 : 4\n"
     ]
    }
   ],
   "source": [
    "#insert an element at specified position\n",
    "l1=[]\n",
    "while(True):\n",
    "    z=input(\"Enter a number(q to quit):\")\n",
    "    if(z=='q'):\n",
    "        break\n",
    "    else:\n",
    "        l1.append(int(z))\n",
    "print(l1)\n",
    "x=input(\"Enter the element you want to insert:\")\n",
    "y=input(\"Enter the position at which you want to insert the element:\")\n",
    "\n",
    "#list name(position,element)    element and position should be int type\n",
    "\n",
    "l1.insert(int(y)-1,x)\n",
    "\n",
    "for i in range (0,len(l1)):\n",
    "    print(\"element is\",str(i+1),\":\",l1[i])"
   ]
  },
  {
   "cell_type": "code",
   "execution_count": 2,
   "id": "85a35b26",
   "metadata": {},
   "outputs": [
    {
     "name": "stdout",
     "output_type": "stream",
     "text": [
      "Enter a number(q to quit):8\n",
      "Enter a number(q to quit):7\n",
      "Enter a number(q to quit):4\n",
      "Enter a number(q to quit):q\n",
      "8 has Frequency 1\n",
      "7 has Frequency 1\n",
      "4 has Frequency 1\n"
     ]
    }
   ],
   "source": [
    "#CHECK THE FREQUENCY OF ELEMENTS\n",
    "l1=[]\n",
    "while(True):\n",
    "    z=input(\"Enter a number(q to quit):\")\n",
    "    if(z=='q'):\n",
    "        break\n",
    "    else:\n",
    "        l1.append(int(z))\n",
    "for i in range (0,len(l1)):\n",
    "    print(l1[i],\"has Frequency\",l1.count(l1[i]))\n",
    "   "
   ]
  },
  {
   "cell_type": "code",
   "execution_count": 3,
   "id": "dc808c28",
   "metadata": {},
   "outputs": [
    {
     "name": "stdout",
     "output_type": "stream",
     "text": [
      "Enter the number of words:2\n",
      "Enter the words:bkjby\n",
      "Enter the words:hncfncf\n",
      "['bkjby', 'hncfncf']\n",
      "Largest length : hncfncf\n"
     ]
    }
   ],
   "source": [
    "#program to read a list of words and return the length of the longest one\n",
    "s=[]\n",
    "word=[]\n",
    "n=int(input(\"Enter the number of words:\"))\n",
    "for i in range (0,n):\n",
    "    word=input(\"Enter the words:\")\n",
    "    s.append(word)\n",
    "print(s)\n",
    "a=len(s[0])\n",
    "for i in range(0,len(s)):\n",
    "    if(len(s[i])>a):\n",
    "        a=s[i]\n",
    "print(\"Largest length :\",a)"
   ]
  },
  {
   "cell_type": "code",
   "execution_count": 11,
   "id": "b03ceaa8",
   "metadata": {},
   "outputs": [
    {
     "name": "stdout",
     "output_type": "stream",
     "text": [
      "[60, 33]\n",
      "[33]\n",
      "[2, 11]\n"
     ]
    }
   ],
   "source": [
    "#import library\n",
    "#(a,b) a is the number of elements ,and list\n",
    "#LARGEST AND SECOND LARGEST\n",
    "\n",
    "import heapq\n",
    "list1=[11,22,33,2,60]\n",
    "print(heapq.nlargest(2,list1))\n",
    "print(heapq.nsmallest(1,heapq.nlargest(2,list1)))\n",
    "print(heapq.nsmallest(2,list1))"
   ]
  },
  {
   "cell_type": "code",
   "execution_count": 13,
   "id": "c6fd56b7",
   "metadata": {},
   "outputs": [
    {
     "name": "stdout",
     "output_type": "stream",
     "text": [
      "[1, 2, 3]\n"
     ]
    }
   ],
   "source": [
    "#the standing line | is the operand of union\n",
    "#union works on only set \n",
    "a=[1,2,2]\n",
    "b=[1,3,3]\n",
    "print(list(set(a)|set(b)))"
   ]
  },
  {
   "cell_type": "code",
   "execution_count": 14,
   "id": "879d43c4",
   "metadata": {},
   "outputs": [
    {
     "ename": "TypeError",
     "evalue": "unsupported operand type(s) for |: 'list' and 'list'",
     "output_type": "error",
     "traceback": [
      "\u001b[1;31m---------------------------------------------------------------------------\u001b[0m",
      "\u001b[1;31mTypeError\u001b[0m                                 Traceback (most recent call last)",
      "Input \u001b[1;32mIn [14]\u001b[0m, in \u001b[0;36m<cell line: 3>\u001b[1;34m()\u001b[0m\n\u001b[0;32m      1\u001b[0m a\u001b[38;5;241m=\u001b[39m[\u001b[38;5;241m1\u001b[39m,\u001b[38;5;241m2\u001b[39m,\u001b[38;5;241m2\u001b[39m]\n\u001b[0;32m      2\u001b[0m b\u001b[38;5;241m=\u001b[39m[\u001b[38;5;241m1\u001b[39m,\u001b[38;5;241m3\u001b[39m,\u001b[38;5;241m3\u001b[39m]\n\u001b[1;32m----> 3\u001b[0m \u001b[38;5;28mprint\u001b[39m(\u001b[43ma\u001b[49m\u001b[38;5;241;43m|\u001b[39;49m\u001b[43mb\u001b[49m)\n",
      "\u001b[1;31mTypeError\u001b[0m: unsupported operand type(s) for |: 'list' and 'list'"
     ]
    }
   ],
   "source": [
    "a=[1,2,2]\n",
    "b=[1,3,3]\n",
    "print(a|b) #we can't apply union operation on list"
   ]
  },
  {
   "cell_type": "code",
   "execution_count": 15,
   "id": "d5f4a848",
   "metadata": {},
   "outputs": [
    {
     "name": "stdout",
     "output_type": "stream",
     "text": [
      "[1]\n"
     ]
    }
   ],
   "source": [
    "#intersection of two lists it will not work on set only\n",
    "\n",
    "a=[1,2,2]\n",
    "b=[1,3,3]\n",
    "print(list(set(a)&set(b)))"
   ]
  },
  {
   "cell_type": "code",
   "execution_count": null,
   "id": "9f6b2220",
   "metadata": {},
   "outputs": [],
   "source": []
  }
 ],
 "metadata": {
  "kernelspec": {
   "display_name": "Python 3 (ipykernel)",
   "language": "python",
   "name": "python3"
  },
  "language_info": {
   "codemirror_mode": {
    "name": "ipython",
    "version": 3
   },
   "file_extension": ".py",
   "mimetype": "text/x-python",
   "name": "python",
   "nbconvert_exporter": "python",
   "pygments_lexer": "ipython3",
   "version": "3.9.12"
  }
 },
 "nbformat": 4,
 "nbformat_minor": 5
}
